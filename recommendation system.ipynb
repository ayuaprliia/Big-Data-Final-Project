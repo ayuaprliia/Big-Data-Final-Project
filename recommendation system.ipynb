{
  "cells": [
    {
      "cell_type": "code",
      "execution_count": null,
      "metadata": {
        "id": "Tg1FtYNtJDUV"
      },
      "outputs": [],
      "source": [
        "!pip install arxiv langdetect"
      ]
    },
    {
      "cell_type": "code",
      "execution_count": null,
      "metadata": {
        "id": "-6soiSSMnzL7"
      },
      "outputs": [],
      "source": [
        "pip install pymongo"
      ]
    },
    {
      "cell_type": "code",
      "execution_count": null,
      "metadata": {},
      "outputs": [],
      "source": [
        "pip install nltk "
      ]
    },
    {
      "cell_type": "code",
      "execution_count": 18,
      "metadata": {},
      "outputs": [
        {
          "name": "stderr",
          "output_type": "stream",
          "text": [
            "[nltk_data] Downloading package punkt to\n",
            "[nltk_data]     C:\\Users\\ayuag\\AppData\\Roaming\\nltk_data...\n",
            "[nltk_data]   Package punkt is already up-to-date!\n",
            "[nltk_data] Downloading package stopwords to\n",
            "[nltk_data]     C:\\Users\\ayuag\\AppData\\Roaming\\nltk_data...\n",
            "[nltk_data]   Package stopwords is already up-to-date!\n",
            "[nltk_data] Downloading package wordnet to\n",
            "[nltk_data]     C:\\Users\\ayuag\\AppData\\Roaming\\nltk_data...\n",
            "[nltk_data]   Package wordnet is already up-to-date!\n"
          ]
        },
        {
          "data": {
            "text/plain": [
              "True"
            ]
          },
          "execution_count": 18,
          "metadata": {},
          "output_type": "execute_result"
        }
      ],
      "source": [
        "import nltk\n",
        "nltk.download('punkt')\n",
        "nltk.download('stopwords')\n",
        "nltk.download('wordnet')"
      ]
    },
    {
      "cell_type": "code",
      "execution_count": null,
      "metadata": {
        "collapsed": true,
        "id": "9Vw9veRm0YJs"
      },
      "outputs": [],
      "source": [
        "import arxiv\n",
        "import pandas as pd\n",
        "import time\n",
        "import matplotlib.pyplot as plt\n",
        "import seaborn as sns\n",
        "from datetime import datetime\n",
        "from langdetect import detect\n",
        "from langdetect.lang_detect_exception import LangDetectException\n",
        "from pymongo import MongoClient, errors"
      ]
    },
    {
      "cell_type": "code",
      "execution_count": null,
      "metadata": {
        "id": "8Xfiz1RmGR0M"
      },
      "outputs": [],
      "source": [
        "# Daftar subkategori yang diinginkan\n",
        "subcategories = [\n",
        "     'cs.AI', 'cs.CR', 'cs.CV','cs.DB', 'cs.DS', 'cs.GT', 'cs.IR', 'cs.LG', 'cs.NE', 'cs.SE',\n",
        "    'eess.AS', 'eess.IV', 'cs.CV','eess.SY',\n",
        "]\n",
        "\n",
        "# Jumlah makalah yang diinginkan per subkategori (misal ~1200 untuk total ~15.600 makalah)\n",
        "papers_per_category = 1200\n",
        "\n",
        "# Tahun saat ini dan 5 tahun terakhir\n",
        "current_year = datetime.now().year\n",
        "start_year = current_year - 5"
      ]
    },
    {
      "cell_type": "code",
      "execution_count": null,
      "metadata": {
        "id": "HgolnLd0I9md"
      },
      "outputs": [],
      "source": [
        "def daterange(start_date, end_date):\n",
        "    # Generator tanggal per bulan\n",
        "    current = start_date\n",
        "    while current < end_date:\n",
        "        yield current\n",
        "        # Tambah 1 bulan\n",
        "        if current.month == 12:\n",
        "            current = current.replace(year=current.year + 1, month=1)\n",
        "        else:\n",
        "            current = current.replace(month=current.month + 1)"
      ]
    },
    {
      "cell_type": "code",
      "execution_count": null,
      "metadata": {
        "id": "JaKz-mF0JB0B"
      },
      "outputs": [],
      "source": [
        "def fetch_papers_by_month(category, start_year, end_year, max_per_month=100):\n",
        "    papers = []\n",
        "    start_date = datetime(start_year, 1, 1)\n",
        "    end_date = datetime(end_year + 1, 1, 1)  # sampai awal tahun berikutnya\n",
        "\n",
        "    for single_month in daterange(start_date, end_date):\n",
        "        # Hitung tanggal awal dan akhir bulan\n",
        "        month_start = single_month\n",
        "        if single_month.month == 12:\n",
        "            month_end = single_month.replace(year=single_month.year + 1, month=1)\n",
        "        else:\n",
        "            month_end = single_month.replace(month=single_month.month + 1)\n",
        "\n",
        "        query = f\"cat:{category} AND submittedDate:[{month_start.strftime('%Y%m%d0000')} TO {month_end.strftime('%Y%m%d0000')}]\"\n",
        "\n",
        "        search = arxiv.Search(\n",
        "            query=query,\n",
        "            max_results=max_per_month,\n",
        "            sort_by=arxiv.SortCriterion.SubmittedDate,\n",
        "            sort_order=arxiv.SortOrder.Descending\n",
        "        )\n",
        "\n",
        "        count = 0\n",
        "        for result in search.results():\n",
        "            papers.append({\n",
        "                'id': result.entry_id,\n",
        "                'title': result.title,\n",
        "                'authors': ', '.join([author.name for author in result.authors]),\n",
        "                'summary': result.summary,\n",
        "                'published': result.published.strftime('%Y-%m-%d'),\n",
        "                'updated': result.updated.strftime('%Y-%m-%d'),\n",
        "                'primary_category': result.primary_category,\n",
        "                'categories': ', '.join(result.categories),\n",
        "                'pdf_url': result.pdf_url\n",
        "            })\n",
        "            count += 1\n",
        "            time.sleep(0.1)\n",
        "\n",
        "        print(f\"{category} | Bulan {month_start.strftime('%Y-%m')} : {count} makalah\")\n",
        "\n",
        "        if len(papers) >= papers_per_category:\n",
        "            print(f\"Sudah cukup {papers_per_category} makalah untuk kategori {category}\")\n",
        "            break\n",
        "\n",
        "        time.sleep(2)  # Sleep antar bulan supaya aman\n",
        "\n",
        "    return papers[:papers_per_category]"
      ]
    },
    {
      "cell_type": "code",
      "execution_count": null,
      "metadata": {
        "colab": {
          "base_uri": "https://localhost:8080/"
        },
        "collapsed": true,
        "id": "ZSCsauyIiwtz",
        "outputId": "0023685b-effb-45fc-b858-f466237cf3e2"
      },
      "outputs": [
        {
          "name": "stdout",
          "output_type": "stream",
          "text": [
            "Memulai pengambilan data kategori: cs.AI\n"
          ]
        },
        {
          "name": "stderr",
          "output_type": "stream",
          "text": [
            "<ipython-input-9-8978dd7105ee>:24: DeprecationWarning: The 'Search.results' method is deprecated, use 'Client.results' instead\n",
            "  for result in search.results():\n"
          ]
        },
        {
          "name": "stdout",
          "output_type": "stream",
          "text": [
            "cs.AI | Bulan 2020-01 : 100 makalah\n",
            "cs.AI | Bulan 2020-02 : 100 makalah\n",
            "cs.AI | Bulan 2020-03 : 100 makalah\n",
            "cs.AI | Bulan 2020-04 : 100 makalah\n",
            "cs.AI | Bulan 2020-05 : 100 makalah\n",
            "cs.AI | Bulan 2020-06 : 100 makalah\n",
            "cs.AI | Bulan 2020-07 : 100 makalah\n",
            "cs.AI | Bulan 2020-08 : 100 makalah\n",
            "cs.AI | Bulan 2020-09 : 100 makalah\n",
            "cs.AI | Bulan 2020-10 : 100 makalah\n",
            "cs.AI | Bulan 2020-11 : 100 makalah\n",
            "cs.AI | Bulan 2020-12 : 100 makalah\n",
            "Sudah cukup 1200 makalah untuk kategori cs.AI\n",
            "Total makalah diambil untuk cs.AI: 1200\n",
            "\n",
            "Memulai pengambilan data kategori: cs.CR\n",
            "cs.CR | Bulan 2020-01 : 100 makalah\n",
            "cs.CR | Bulan 2020-02 : 100 makalah\n",
            "cs.CR | Bulan 2020-03 : 100 makalah\n",
            "cs.CR | Bulan 2020-04 : 100 makalah\n",
            "cs.CR | Bulan 2020-05 : 100 makalah\n",
            "cs.CR | Bulan 2020-06 : 100 makalah\n",
            "cs.CR | Bulan 2020-07 : 100 makalah\n",
            "cs.CR | Bulan 2020-08 : 100 makalah\n",
            "cs.CR | Bulan 2020-09 : 100 makalah\n",
            "cs.CR | Bulan 2020-10 : 100 makalah\n",
            "cs.CR | Bulan 2020-11 : 100 makalah\n",
            "cs.CR | Bulan 2020-12 : 100 makalah\n",
            "Sudah cukup 1200 makalah untuk kategori cs.CR\n",
            "Total makalah diambil untuk cs.CR: 1200\n",
            "\n",
            "Memulai pengambilan data kategori: cs.CV\n",
            "cs.CV | Bulan 2020-01 : 100 makalah\n",
            "cs.CV | Bulan 2020-02 : 100 makalah\n",
            "cs.CV | Bulan 2020-03 : 100 makalah\n",
            "cs.CV | Bulan 2020-04 : 100 makalah\n",
            "cs.CV | Bulan 2020-05 : 100 makalah\n",
            "cs.CV | Bulan 2020-06 : 100 makalah\n",
            "cs.CV | Bulan 2020-07 : 100 makalah\n",
            "cs.CV | Bulan 2020-08 : 100 makalah\n",
            "cs.CV | Bulan 2020-09 : 100 makalah\n",
            "cs.CV | Bulan 2020-10 : 100 makalah\n",
            "cs.CV | Bulan 2020-11 : 100 makalah\n",
            "cs.CV | Bulan 2020-12 : 100 makalah\n",
            "Sudah cukup 1200 makalah untuk kategori cs.CV\n",
            "Total makalah diambil untuk cs.CV: 1200\n",
            "\n",
            "Memulai pengambilan data kategori: cs.DB\n",
            "cs.DB | Bulan 2020-01 : 64 makalah\n",
            "cs.DB | Bulan 2020-02 : 69 makalah\n",
            "cs.DB | Bulan 2020-03 : 96 makalah\n",
            "cs.DB | Bulan 2020-04 : 93 makalah\n",
            "cs.DB | Bulan 2020-05 : 69 makalah\n",
            "cs.DB | Bulan 2020-06 : 74 makalah\n",
            "cs.DB | Bulan 2020-07 : 65 makalah\n",
            "cs.DB | Bulan 2020-08 : 66 makalah\n",
            "cs.DB | Bulan 2020-09 : 79 makalah\n",
            "cs.DB | Bulan 2020-10 : 88 makalah\n",
            "cs.DB | Bulan 2020-11 : 55 makalah\n",
            "cs.DB | Bulan 2020-12 : 66 makalah\n",
            "cs.DB | Bulan 2021-01 : 69 makalah\n",
            "cs.DB | Bulan 2021-02 : 53 makalah\n",
            "cs.DB | Bulan 2021-03 : 96 makalah\n",
            "cs.DB | Bulan 2021-04 : 66 makalah\n",
            "cs.DB | Bulan 2021-05 : 66 makalah\n",
            "Sudah cukup 1200 makalah untuk kategori cs.DB\n",
            "Total makalah diambil untuk cs.DB: 1200\n",
            "\n",
            "Memulai pengambilan data kategori: cs.DS\n",
            "cs.DS | Bulan 2020-01 : 100 makalah\n",
            "cs.DS | Bulan 2020-02 : 100 makalah\n",
            "cs.DS | Bulan 2020-03 : 100 makalah\n",
            "cs.DS | Bulan 2020-04 : 100 makalah\n",
            "cs.DS | Bulan 2020-05 : 100 makalah\n",
            "cs.DS | Bulan 2020-06 : 100 makalah\n",
            "cs.DS | Bulan 2020-07 : 100 makalah\n",
            "cs.DS | Bulan 2020-08 : 100 makalah\n",
            "cs.DS | Bulan 2020-09 : 100 makalah\n",
            "cs.DS | Bulan 2020-10 : 100 makalah\n",
            "cs.DS | Bulan 2020-11 : 100 makalah\n",
            "cs.DS | Bulan 2020-12 : 100 makalah\n",
            "Sudah cukup 1200 makalah untuk kategori cs.DS\n",
            "Total makalah diambil untuk cs.DS: 1200\n",
            "\n",
            "Memulai pengambilan data kategori: cs.GT\n",
            "cs.GT | Bulan 2020-01 : 64 makalah\n",
            "cs.GT | Bulan 2020-02 : 100 makalah\n",
            "cs.GT | Bulan 2020-03 : 67 makalah\n",
            "cs.GT | Bulan 2020-04 : 56 makalah\n",
            "cs.GT | Bulan 2020-05 : 84 makalah\n",
            "cs.GT | Bulan 2020-06 : 100 makalah\n",
            "cs.GT | Bulan 2020-07 : 100 makalah\n",
            "cs.GT | Bulan 2020-08 : 62 makalah\n",
            "cs.GT | Bulan 2020-09 : 100 makalah\n",
            "cs.GT | Bulan 2020-10 : 83 makalah\n",
            "cs.GT | Bulan 2020-11 : 75 makalah\n",
            "cs.GT | Bulan 2020-12 : 93 makalah\n",
            "cs.GT | Bulan 2021-01 : 73 makalah\n",
            "cs.GT | Bulan 2021-02 : 100 makalah\n",
            "cs.GT | Bulan 2021-03 : 93 makalah\n",
            "Sudah cukup 1200 makalah untuk kategori cs.GT\n",
            "Total makalah diambil untuk cs.GT: 1200\n",
            "\n",
            "Memulai pengambilan data kategori: cs.IR\n",
            "cs.IR | Bulan 2020-01 : 100 makalah\n",
            "cs.IR | Bulan 2020-02 : 100 makalah\n",
            "cs.IR | Bulan 2020-03 : 100 makalah\n",
            "cs.IR | Bulan 2020-04 : 100 makalah\n",
            "cs.IR | Bulan 2020-05 : 100 makalah\n",
            "cs.IR | Bulan 2020-06 : 100 makalah\n",
            "cs.IR | Bulan 2020-07 : 100 makalah\n",
            "cs.IR | Bulan 2020-08 : 100 makalah\n",
            "cs.IR | Bulan 2020-09 : 100 makalah\n",
            "cs.IR | Bulan 2020-10 : 100 makalah\n",
            "cs.IR | Bulan 2020-11 : 100 makalah\n",
            "cs.IR | Bulan 2020-12 : 100 makalah\n",
            "Sudah cukup 1200 makalah untuk kategori cs.IR\n",
            "Total makalah diambil untuk cs.IR: 1200\n",
            "\n",
            "Memulai pengambilan data kategori: cs.LG\n",
            "cs.LG | Bulan 2020-01 : 100 makalah\n",
            "cs.LG | Bulan 2020-02 : 100 makalah\n",
            "cs.LG | Bulan 2020-03 : 100 makalah\n",
            "cs.LG | Bulan 2020-04 : 100 makalah\n",
            "cs.LG | Bulan 2020-05 : 100 makalah\n",
            "cs.LG | Bulan 2020-06 : 100 makalah\n",
            "cs.LG | Bulan 2020-07 : 100 makalah\n",
            "cs.LG | Bulan 2020-08 : 100 makalah\n",
            "cs.LG | Bulan 2020-09 : 100 makalah\n",
            "cs.LG | Bulan 2020-10 : 100 makalah\n",
            "cs.LG | Bulan 2020-11 : 100 makalah\n",
            "cs.LG | Bulan 2020-12 : 100 makalah\n",
            "Sudah cukup 1200 makalah untuk kategori cs.LG\n",
            "Total makalah diambil untuk cs.LG: 1200\n",
            "\n",
            "Memulai pengambilan data kategori: cs.NE\n",
            "cs.NE | Bulan 2020-01 : 100 makalah\n",
            "cs.NE | Bulan 2020-02 : 100 makalah\n",
            "cs.NE | Bulan 2020-03 : 100 makalah\n",
            "cs.NE | Bulan 2020-04 : 100 makalah\n",
            "cs.NE | Bulan 2020-05 : 100 makalah\n",
            "cs.NE | Bulan 2020-06 : 100 makalah\n",
            "cs.NE | Bulan 2020-07 : 100 makalah\n",
            "cs.NE | Bulan 2020-08 : 100 makalah\n",
            "cs.NE | Bulan 2020-09 : 100 makalah\n",
            "cs.NE | Bulan 2020-10 : 100 makalah\n",
            "cs.NE | Bulan 2020-11 : 100 makalah\n",
            "cs.NE | Bulan 2020-12 : 100 makalah\n",
            "Sudah cukup 1200 makalah untuk kategori cs.NE\n",
            "Total makalah diambil untuk cs.NE: 1200\n",
            "\n",
            "Memulai pengambilan data kategori: cs.SE\n",
            "cs.SE | Bulan 2020-01 : 93 makalah\n",
            "cs.SE | Bulan 2020-02 : 95 makalah\n",
            "cs.SE | Bulan 2020-03 : 100 makalah\n",
            "cs.SE | Bulan 2020-04 : 100 makalah\n",
            "cs.SE | Bulan 2020-05 : 100 makalah\n",
            "cs.SE | Bulan 2020-06 : 100 makalah\n",
            "cs.SE | Bulan 2020-07 : 100 makalah\n",
            "cs.SE | Bulan 2020-08 : 100 makalah\n",
            "cs.SE | Bulan 2020-09 : 100 makalah\n",
            "cs.SE | Bulan 2020-10 : 100 makalah\n",
            "cs.SE | Bulan 2020-11 : 100 makalah\n",
            "cs.SE | Bulan 2020-12 : 100 makalah\n",
            "cs.SE | Bulan 2021-01 : 100 makalah\n",
            "Sudah cukup 1200 makalah untuk kategori cs.SE\n",
            "Total makalah diambil untuk cs.SE: 1200\n",
            "\n",
            "Memulai pengambilan data kategori: eess.AS\n",
            "eess.AS | Bulan 2020-01 : 100 makalah\n",
            "eess.AS | Bulan 2020-02 : 100 makalah\n",
            "eess.AS | Bulan 2020-03 : 100 makalah\n",
            "eess.AS | Bulan 2020-04 : 100 makalah\n",
            "eess.AS | Bulan 2020-05 : 100 makalah\n",
            "eess.AS | Bulan 2020-06 : 100 makalah\n",
            "eess.AS | Bulan 2020-07 : 100 makalah\n",
            "eess.AS | Bulan 2020-08 : 100 makalah\n",
            "eess.AS | Bulan 2020-09 : 100 makalah\n",
            "eess.AS | Bulan 2020-10 : 100 makalah\n",
            "eess.AS | Bulan 2020-11 : 100 makalah\n",
            "eess.AS | Bulan 2020-12 : 100 makalah\n",
            "Sudah cukup 1200 makalah untuk kategori eess.AS\n",
            "Total makalah diambil untuk eess.AS: 1200\n",
            "\n",
            "Memulai pengambilan data kategori: eess.IV\n",
            "eess.IV | Bulan 2020-01 : 100 makalah\n",
            "eess.IV | Bulan 2020-02 : 100 makalah\n",
            "eess.IV | Bulan 2020-03 : 100 makalah\n",
            "eess.IV | Bulan 2020-04 : 100 makalah\n",
            "eess.IV | Bulan 2020-05 : 100 makalah\n",
            "eess.IV | Bulan 2020-06 : 100 makalah\n",
            "eess.IV | Bulan 2020-07 : 100 makalah\n",
            "eess.IV | Bulan 2020-08 : 100 makalah\n",
            "eess.IV | Bulan 2020-09 : 100 makalah\n",
            "eess.IV | Bulan 2020-10 : 100 makalah\n",
            "eess.IV | Bulan 2020-11 : 100 makalah\n",
            "eess.IV | Bulan 2020-12 : 100 makalah\n",
            "Sudah cukup 1200 makalah untuk kategori eess.IV\n",
            "Total makalah diambil untuk eess.IV: 1200\n",
            "\n",
            "Memulai pengambilan data kategori: cs.CV\n",
            "cs.CV | Bulan 2020-01 : 100 makalah\n",
            "cs.CV | Bulan 2020-02 : 100 makalah\n",
            "cs.CV | Bulan 2020-03 : 100 makalah\n",
            "cs.CV | Bulan 2020-04 : 100 makalah\n",
            "cs.CV | Bulan 2020-05 : 100 makalah\n",
            "cs.CV | Bulan 2020-06 : 100 makalah\n",
            "cs.CV | Bulan 2020-07 : 100 makalah\n",
            "cs.CV | Bulan 2020-08 : 100 makalah\n",
            "cs.CV | Bulan 2020-09 : 100 makalah\n",
            "cs.CV | Bulan 2020-10 : 100 makalah\n",
            "cs.CV | Bulan 2020-11 : 100 makalah\n",
            "cs.CV | Bulan 2020-12 : 100 makalah\n",
            "Sudah cukup 1200 makalah untuk kategori cs.CV\n",
            "Total makalah diambil untuk cs.CV: 1200\n",
            "\n",
            "Memulai pengambilan data kategori: eess.SY\n",
            "eess.SY | Bulan 2020-01 : 100 makalah\n",
            "eess.SY | Bulan 2020-02 : 100 makalah\n",
            "eess.SY | Bulan 2020-03 : 100 makalah\n",
            "eess.SY | Bulan 2020-04 : 100 makalah\n",
            "eess.SY | Bulan 2020-05 : 100 makalah\n",
            "eess.SY | Bulan 2020-06 : 100 makalah\n",
            "eess.SY | Bulan 2020-07 : 100 makalah\n",
            "eess.SY | Bulan 2020-08 : 100 makalah\n",
            "eess.SY | Bulan 2020-09 : 100 makalah\n",
            "eess.SY | Bulan 2020-10 : 100 makalah\n",
            "eess.SY | Bulan 2020-11 : 100 makalah\n",
            "eess.SY | Bulan 2020-12 : 100 makalah\n",
            "Sudah cukup 1200 makalah untuk kategori eess.SY\n",
            "Total makalah diambil untuk eess.SY: 1200\n",
            "\n",
            "Data tersimpan di 'arxiv_cs_subcategories.csv'\n"
          ]
        }
      ],
      "source": [
        "all_papers = []\n",
        "\n",
        "for category in subcategories:\n",
        "    print(f\"Memulai pengambilan data kategori: {category}\")\n",
        "    papers = fetch_papers_by_month(category, start_year, current_year, max_per_month=100)\n",
        "    all_papers.extend(papers)\n",
        "    print(f\"Total makalah diambil untuk {category}: {len(papers)}\\n\")\n",
        "\n",
        "df = pd.DataFrame(all_papers)\n",
        "df.to_csv('arxiv_cs_subcategories.csv', index=False)\n",
        "print(\"Data tersimpan di 'arxiv_cs_subcategories.csv'\")"
      ]
    },
    {
      "cell_type": "code",
      "execution_count": null,
      "metadata": {
        "id": "lUXBpnWXMbMc"
      },
      "outputs": [],
      "source": [
        "import pandas as pd\n",
        "\n",
        "file1 = pd.read_csv('/content/arxiv_cs_subcategories (1).csv')\n",
        "file2 = pd.read_csv('/content/arxiv_cs_subcategories (2).csv')\n",
        "\n",
        "result = pd.concat([file1, file2])\n",
        "\n",
        "# Simpan hasil ke file baru\n",
        "result.to_csv('arxiv_cs_eess.csv', index=False)"
      ]
    },
    {
      "cell_type": "code",
      "execution_count": null,
      "metadata": {
        "colab": {
          "base_uri": "https://localhost:8080/",
          "height": 642
        },
        "id": "9xXPYRceiEKj",
        "outputId": "2c021c2a-7733-4ac2-c871-407e8e88e0af"
      },
      "outputs": [
        {
          "data": {
            "application/vnd.google.colaboratory.intrinsic+json": {
              "summary": "{\n  \"name\": \"df\",\n  \"rows\": 2800,\n  \"fields\": [\n    {\n      \"column\": \"id\",\n      \"properties\": {\n        \"dtype\": \"string\",\n        \"num_unique_values\": 2342,\n        \"samples\": [\n          \"http://arxiv.org/abs/2504.06006v2\",\n          \"http://arxiv.org/abs/2504.02150v1\",\n          \"http://arxiv.org/abs/2505.02239v1\"\n        ],\n        \"semantic_type\": \"\",\n        \"description\": \"\"\n      }\n    },\n    {\n      \"column\": \"title\",\n      \"properties\": {\n        \"dtype\": \"string\",\n        \"num_unique_values\": 2342,\n        \"samples\": [\n          \"Optuna vs Code Llama: Are LLMs a New Paradigm for Hyperparameter Tuning?\",\n          \"LakeVisage: Towards Scalable, Flexible and Interactive Visualization Recommendation for Data Discovery over Data Lakes\",\n          \"Performance Analysis and Deployment Considerations of Post-Quantum Cryptography for Consumer Electronics\"\n        ],\n        \"semantic_type\": \"\",\n        \"description\": \"\"\n      }\n    },\n    {\n      \"column\": \"authors\",\n      \"properties\": {\n        \"dtype\": \"string\",\n        \"num_unique_values\": 2322,\n        \"samples\": [\n          \"Mingjun Xu, Zehui Wang, Hengxing Cai, Renxin Zhong\",\n          \"Akshita Gupta, Yashwanth Kumar Nakka, Changrak Choi, Amir Rahmani\",\n          \"Jarin Ritu, Alexandra Van Dine, Joshua Peeples\"\n        ],\n        \"semantic_type\": \"\",\n        \"description\": \"\"\n      }\n    },\n    {\n      \"column\": \"summary\",\n      \"properties\": {\n        \"dtype\": \"string\",\n        \"num_unique_values\": 2342,\n        \"samples\": [\n          \"Optimal hyperparameter selection is critical for maximizing neural network\\nperformance, especially as models grow in complexity. This work investigates\\nthe viability of leveraging large language models (LLMs) for hyperparameter\\noptimization by fine-tuning a parameter-efficient version of Code Llama using\\nLoRA. The adapted LLM is capable of generating accurate and efficient\\nhyperparameter recommendations tailored to diverse neural network\\narchitectures. Unlike traditional approaches such as Optuna, which rely on\\ncomputationally intensive trial-and-error procedures, our method achieves\\ncompetitive or superior results in terms of Root Mean Square Error (RMSE) while\\nsignificantly reducing computational overhead. Our findings demonstrate that\\nLLM-based optimization not only matches the performance of state-of-the-art\\ntechniques like Tree-structured Parzen Estimators (TPE) but also substantially\\naccelerates the tuning process. This positions LLMs as a promising alternative\\nfor rapid experimentation, particularly in resource-constrained environments\\nsuch as edge devices and mobile platforms, where computational efficiency is\\nessential. In addition to improved efficiency, the method offers time savings\\nand consistent performance across various tasks, highlighting its robustness\\nand generalizability. All generated hyperparameters are included in the LEMUR\\nNeural Network (NN) Dataset, which is publicly available and serves as an\\nopen-source benchmark for hyperparameter optimization research.\",\n          \"Data discovery from data lakes is an essential application in modern data\\nscience. While many previous studies focused on improving the efficiency and\\neffectiveness of data discovery, little attention has been paid to the\\nusability of such applications. In particular, exploring data discovery results\\ncan be cumbersome due to the cognitive load involved in understanding raw\\ntabular results and identifying insights to draw conclusions. To address this\\nchallenge, we introduce a new problem -- visualization recommendation for data\\ndiscovery over data lakes -- which aims at automatically identifying\\nvisualizations that highlight relevant or desired trends in the results\\nreturned by data discovery engines. We propose LakeVisage, an end-to-end\\nframework as the first solution to this problem. Given a data lake, a data\\ndiscovery engine, and a user-specified query table, LakeVisage intelligently\\nexplores the space of visualizations and recommends the most useful and\\n``interesting'' visualization plans. To this end, we developed (i) approaches\\nto smartly construct the candidate visualization plans from the results of the\\ndata discovery engine and (ii) effective pruning strategies to filter out less\\ninteresting plans so as to accelerate the visual analysis. Experimental results\\non real data lakes show that our proposed techniques can lead to an order of\\nmagnitude speedup in visualization recommendation. We also conduct a\\ncomprehensive user study to demonstrate that LakeVisage offers convenience to\\nusers in real data analysis applications by enabling them seamlessly get\\nstarted with the tasks and performing explorations flexibly.\",\n          \"Quantum computing threatens the security foundations of consumer electronics\\n(CE). Preparing the diverse CE ecosystem, particularly resource-constrained\\ndevices, for the post-quantum era requires quantitative understanding of\\nquantum-resistant cryptography (PQC) performance. This paper presents a\\ncomprehensive cross-platform performance analysis of leading PQC Key\\nEncapsulation Mechanisms (KEMs) and digital signatures (NIST\\nstandards/candidates) compared against classical RSA/ECC. We evaluated\\nexecution time, communication costs (key/signature sizes), and memory footprint\\nindicators on high-performance (macOS/M4, Ubuntu/x86) and constrained platforms\\n(Raspberry Pi 4/ARM). Our quantitative results reveal lattice-based schemes,\\nnotably NIST standards ML-KEM (Kyber) and ML-DSA (Dilithium), provide a strong\\nbalance of computational efficiency and moderate communication/storage\\noverhead, making them highly suitable for many CE applications. In contrast,\\ncode-based Classic McEliece imposes significant key size challenges, while\\nhash-based SPHINCS+ offers high security assurance but demands large signature\\nsizes impacting bandwidth and storage. Based on empirical data across platforms\\nand security levels, we provide specific deployment recommendations tailored to\\ndifferent CE scenarios (e.g., wearables, smart home hubs, mobile devices),\\noffering guidance for manufacturers navigating the PQC transition.\"\n        ],\n        \"semantic_type\": \"\",\n        \"description\": \"\"\n      }\n    },\n    {\n      \"column\": \"published\",\n      \"properties\": {\n        \"dtype\": \"object\",\n        \"num_unique_values\": 63,\n        \"samples\": [\n          \"2025-03-06\",\n          \"2025-03-10\",\n          \"2025-05-07\"\n        ],\n        \"semantic_type\": \"\",\n        \"description\": \"\"\n      }\n    },\n    {\n      \"column\": \"updated\",\n      \"properties\": {\n        \"dtype\": \"object\",\n        \"num_unique_values\": 62,\n        \"samples\": [\n          \"2025-03-17\",\n          \"2025-03-10\",\n          \"2025-05-07\"\n        ],\n        \"semantic_type\": \"\",\n        \"description\": \"\"\n      }\n    },\n    {\n      \"column\": \"primary_category\",\n      \"properties\": {\n        \"dtype\": \"category\",\n        \"num_unique_values\": 71,\n        \"samples\": [\n          \"q-bio.NC\",\n          \"eess.AS\",\n          \"eess.SY\"\n        ],\n        \"semantic_type\": \"\",\n        \"description\": \"\"\n      }\n    },\n    {\n      \"column\": \"categories\",\n      \"properties\": {\n        \"dtype\": \"category\",\n        \"num_unique_values\": 877,\n        \"samples\": [\n          \"eess.AS, cs.SD, eess.SP\",\n          \"cs.LG, cs.CL, cs.SD, eess.AS\",\n          \"cs.LG, cs.CR, cs.DB\"\n        ],\n        \"semantic_type\": \"\",\n        \"description\": \"\"\n      }\n    },\n    {\n      \"column\": \"pdf_url\",\n      \"properties\": {\n        \"dtype\": \"string\",\n        \"num_unique_values\": 2342,\n        \"samples\": [\n          \"http://arxiv.org/pdf/2504.06006v2\",\n          \"http://arxiv.org/pdf/2504.02150v1\",\n          \"http://arxiv.org/pdf/2505.02239v1\"\n        ],\n        \"semantic_type\": \"\",\n        \"description\": \"\"\n      }\n    }\n  ]\n}",
              "type": "dataframe",
              "variable_name": "df"
            },
            "text/html": [
              "\n",
              "  <div id=\"df-36540861-534f-46b8-8bc3-190d408fba32\" class=\"colab-df-container\">\n",
              "    <div>\n",
              "<style scoped>\n",
              "    .dataframe tbody tr th:only-of-type {\n",
              "        vertical-align: middle;\n",
              "    }\n",
              "\n",
              "    .dataframe tbody tr th {\n",
              "        vertical-align: top;\n",
              "    }\n",
              "\n",
              "    .dataframe thead th {\n",
              "        text-align: right;\n",
              "    }\n",
              "</style>\n",
              "<table border=\"1\" class=\"dataframe\">\n",
              "  <thead>\n",
              "    <tr style=\"text-align: right;\">\n",
              "      <th></th>\n",
              "      <th>id</th>\n",
              "      <th>title</th>\n",
              "      <th>authors</th>\n",
              "      <th>summary</th>\n",
              "      <th>published</th>\n",
              "      <th>updated</th>\n",
              "      <th>primary_category</th>\n",
              "      <th>categories</th>\n",
              "      <th>pdf_url</th>\n",
              "    </tr>\n",
              "  </thead>\n",
              "  <tbody>\n",
              "    <tr>\n",
              "      <th>0</th>\n",
              "      <td>http://arxiv.org/abs/2505.04623v1</td>\n",
              "      <td>EchoInk-R1: Exploring Audio-Visual Reasoning i...</td>\n",
              "      <td>Zhenghao Xing, Xiaowei Hu, Chi-Wing Fu, Wenhai...</td>\n",
              "      <td>Multimodal large language models (MLLMs) have ...</td>\n",
              "      <td>2025-05-07</td>\n",
              "      <td>2025-05-07</td>\n",
              "      <td>eess.AS</td>\n",
              "      <td>eess.AS, cs.AI, cs.CV, cs.MM, cs.SD</td>\n",
              "      <td>http://arxiv.org/pdf/2505.04623v1</td>\n",
              "    </tr>\n",
              "    <tr>\n",
              "      <th>1</th>\n",
              "      <td>http://arxiv.org/abs/2505.04621v1</td>\n",
              "      <td>Score Distillation Sampling for Audio: Source ...</td>\n",
              "      <td>Jessie Richter-Powell, Antonio Torralba, Jonat...</td>\n",
              "      <td>We introduce Audio-SDS, a generalization of Sc...</td>\n",
              "      <td>2025-05-07</td>\n",
              "      <td>2025-05-07</td>\n",
              "      <td>cs.SD</td>\n",
              "      <td>cs.SD, cs.AI, cs.LG, cs.MM, eess.AS, 68T07, I....</td>\n",
              "      <td>http://arxiv.org/pdf/2505.04621v1</td>\n",
              "    </tr>\n",
              "    <tr>\n",
              "      <th>2</th>\n",
              "      <td>http://arxiv.org/abs/2505.04608v1</td>\n",
              "      <td>WATCH: Weighted Adaptive Testing for Changepoi...</td>\n",
              "      <td>Drew Prinster, Xing Han, Anqi Liu, Suchi Saria</td>\n",
              "      <td>Responsibly deploying artificial intelligence ...</td>\n",
              "      <td>2025-05-07</td>\n",
              "      <td>2025-05-07</td>\n",
              "      <td>cs.LG</td>\n",
              "      <td>cs.LG, cs.AI, stat.ML</td>\n",
              "      <td>http://arxiv.org/pdf/2505.04608v1</td>\n",
              "    </tr>\n",
              "    <tr>\n",
              "      <th>3</th>\n",
              "      <td>http://arxiv.org/abs/2505.04592v1</td>\n",
              "      <td>AI Governance to Avoid Extinction: The Strateg...</td>\n",
              "      <td>Peter Barnett, Aaron Scher</td>\n",
              "      <td>Humanity appears to be on course to soon devel...</td>\n",
              "      <td>2025-05-07</td>\n",
              "      <td>2025-05-07</td>\n",
              "      <td>cs.CY</td>\n",
              "      <td>cs.CY, cs.AI</td>\n",
              "      <td>http://arxiv.org/pdf/2505.04592v1</td>\n",
              "    </tr>\n",
              "    <tr>\n",
              "      <th>4</th>\n",
              "      <td>http://arxiv.org/abs/2505.04578v1</td>\n",
              "      <td>Fight Fire with Fire: Defending Against Malici...</td>\n",
              "      <td>Wenjun Cao</td>\n",
              "      <td>Reinforcement learning (RL) fine-tuning transf...</td>\n",
              "      <td>2025-05-07</td>\n",
              "      <td>2025-05-07</td>\n",
              "      <td>cs.LG</td>\n",
              "      <td>cs.LG, cs.AI</td>\n",
              "      <td>http://arxiv.org/pdf/2505.04578v1</td>\n",
              "    </tr>\n",
              "  </tbody>\n",
              "</table>\n",
              "</div>\n",
              "    <div class=\"colab-df-buttons\">\n",
              "\n",
              "  <div class=\"colab-df-container\">\n",
              "    <button class=\"colab-df-convert\" onclick=\"convertToInteractive('df-36540861-534f-46b8-8bc3-190d408fba32')\"\n",
              "            title=\"Convert this dataframe to an interactive table.\"\n",
              "            style=\"display:none;\">\n",
              "\n",
              "  <svg xmlns=\"http://www.w3.org/2000/svg\" height=\"24px\" viewBox=\"0 -960 960 960\">\n",
              "    <path d=\"M120-120v-720h720v720H120Zm60-500h600v-160H180v160Zm220 220h160v-160H400v160Zm0 220h160v-160H400v160ZM180-400h160v-160H180v160Zm440 0h160v-160H620v160ZM180-180h160v-160H180v160Zm440 0h160v-160H620v160Z\"/>\n",
              "  </svg>\n",
              "    </button>\n",
              "\n",
              "  <style>\n",
              "    .colab-df-container {\n",
              "      display:flex;\n",
              "      gap: 12px;\n",
              "    }\n",
              "\n",
              "    .colab-df-convert {\n",
              "      background-color: #E8F0FE;\n",
              "      border: none;\n",
              "      border-radius: 50%;\n",
              "      cursor: pointer;\n",
              "      display: none;\n",
              "      fill: #1967D2;\n",
              "      height: 32px;\n",
              "      padding: 0 0 0 0;\n",
              "      width: 32px;\n",
              "    }\n",
              "\n",
              "    .colab-df-convert:hover {\n",
              "      background-color: #E2EBFA;\n",
              "      box-shadow: 0px 1px 2px rgba(60, 64, 67, 0.3), 0px 1px 3px 1px rgba(60, 64, 67, 0.15);\n",
              "      fill: #174EA6;\n",
              "    }\n",
              "\n",
              "    .colab-df-buttons div {\n",
              "      margin-bottom: 4px;\n",
              "    }\n",
              "\n",
              "    [theme=dark] .colab-df-convert {\n",
              "      background-color: #3B4455;\n",
              "      fill: #D2E3FC;\n",
              "    }\n",
              "\n",
              "    [theme=dark] .colab-df-convert:hover {\n",
              "      background-color: #434B5C;\n",
              "      box-shadow: 0px 1px 3px 1px rgba(0, 0, 0, 0.15);\n",
              "      filter: drop-shadow(0px 1px 2px rgba(0, 0, 0, 0.3));\n",
              "      fill: #FFFFFF;\n",
              "    }\n",
              "  </style>\n",
              "\n",
              "    <script>\n",
              "      const buttonEl =\n",
              "        document.querySelector('#df-36540861-534f-46b8-8bc3-190d408fba32 button.colab-df-convert');\n",
              "      buttonEl.style.display =\n",
              "        google.colab.kernel.accessAllowed ? 'block' : 'none';\n",
              "\n",
              "      async function convertToInteractive(key) {\n",
              "        const element = document.querySelector('#df-36540861-534f-46b8-8bc3-190d408fba32');\n",
              "        const dataTable =\n",
              "          await google.colab.kernel.invokeFunction('convertToInteractive',\n",
              "                                                    [key], {});\n",
              "        if (!dataTable) return;\n",
              "\n",
              "        const docLinkHtml = 'Like what you see? Visit the ' +\n",
              "          '<a target=\"_blank\" href=https://colab.research.google.com/notebooks/data_table.ipynb>data table notebook</a>'\n",
              "          + ' to learn more about interactive tables.';\n",
              "        element.innerHTML = '';\n",
              "        dataTable['output_type'] = 'display_data';\n",
              "        await google.colab.output.renderOutput(dataTable, element);\n",
              "        const docLink = document.createElement('div');\n",
              "        docLink.innerHTML = docLinkHtml;\n",
              "        element.appendChild(docLink);\n",
              "      }\n",
              "    </script>\n",
              "  </div>\n",
              "\n",
              "\n",
              "    <div id=\"df-2fa3f1d1-c77e-48c8-bb38-03febef2c7d3\">\n",
              "      <button class=\"colab-df-quickchart\" onclick=\"quickchart('df-2fa3f1d1-c77e-48c8-bb38-03febef2c7d3')\"\n",
              "                title=\"Suggest charts\"\n",
              "                style=\"display:none;\">\n",
              "\n",
              "<svg xmlns=\"http://www.w3.org/2000/svg\" height=\"24px\"viewBox=\"0 0 24 24\"\n",
              "     width=\"24px\">\n",
              "    <g>\n",
              "        <path d=\"M19 3H5c-1.1 0-2 .9-2 2v14c0 1.1.9 2 2 2h14c1.1 0 2-.9 2-2V5c0-1.1-.9-2-2-2zM9 17H7v-7h2v7zm4 0h-2V7h2v10zm4 0h-2v-4h2v4z\"/>\n",
              "    </g>\n",
              "</svg>\n",
              "      </button>\n",
              "\n",
              "<style>\n",
              "  .colab-df-quickchart {\n",
              "      --bg-color: #E8F0FE;\n",
              "      --fill-color: #1967D2;\n",
              "      --hover-bg-color: #E2EBFA;\n",
              "      --hover-fill-color: #174EA6;\n",
              "      --disabled-fill-color: #AAA;\n",
              "      --disabled-bg-color: #DDD;\n",
              "  }\n",
              "\n",
              "  [theme=dark] .colab-df-quickchart {\n",
              "      --bg-color: #3B4455;\n",
              "      --fill-color: #D2E3FC;\n",
              "      --hover-bg-color: #434B5C;\n",
              "      --hover-fill-color: #FFFFFF;\n",
              "      --disabled-bg-color: #3B4455;\n",
              "      --disabled-fill-color: #666;\n",
              "  }\n",
              "\n",
              "  .colab-df-quickchart {\n",
              "    background-color: var(--bg-color);\n",
              "    border: none;\n",
              "    border-radius: 50%;\n",
              "    cursor: pointer;\n",
              "    display: none;\n",
              "    fill: var(--fill-color);\n",
              "    height: 32px;\n",
              "    padding: 0;\n",
              "    width: 32px;\n",
              "  }\n",
              "\n",
              "  .colab-df-quickchart:hover {\n",
              "    background-color: var(--hover-bg-color);\n",
              "    box-shadow: 0 1px 2px rgba(60, 64, 67, 0.3), 0 1px 3px 1px rgba(60, 64, 67, 0.15);\n",
              "    fill: var(--button-hover-fill-color);\n",
              "  }\n",
              "\n",
              "  .colab-df-quickchart-complete:disabled,\n",
              "  .colab-df-quickchart-complete:disabled:hover {\n",
              "    background-color: var(--disabled-bg-color);\n",
              "    fill: var(--disabled-fill-color);\n",
              "    box-shadow: none;\n",
              "  }\n",
              "\n",
              "  .colab-df-spinner {\n",
              "    border: 2px solid var(--fill-color);\n",
              "    border-color: transparent;\n",
              "    border-bottom-color: var(--fill-color);\n",
              "    animation:\n",
              "      spin 1s steps(1) infinite;\n",
              "  }\n",
              "\n",
              "  @keyframes spin {\n",
              "    0% {\n",
              "      border-color: transparent;\n",
              "      border-bottom-color: var(--fill-color);\n",
              "      border-left-color: var(--fill-color);\n",
              "    }\n",
              "    20% {\n",
              "      border-color: transparent;\n",
              "      border-left-color: var(--fill-color);\n",
              "      border-top-color: var(--fill-color);\n",
              "    }\n",
              "    30% {\n",
              "      border-color: transparent;\n",
              "      border-left-color: var(--fill-color);\n",
              "      border-top-color: var(--fill-color);\n",
              "      border-right-color: var(--fill-color);\n",
              "    }\n",
              "    40% {\n",
              "      border-color: transparent;\n",
              "      border-right-color: var(--fill-color);\n",
              "      border-top-color: var(--fill-color);\n",
              "    }\n",
              "    60% {\n",
              "      border-color: transparent;\n",
              "      border-right-color: var(--fill-color);\n",
              "    }\n",
              "    80% {\n",
              "      border-color: transparent;\n",
              "      border-right-color: var(--fill-color);\n",
              "      border-bottom-color: var(--fill-color);\n",
              "    }\n",
              "    90% {\n",
              "      border-color: transparent;\n",
              "      border-bottom-color: var(--fill-color);\n",
              "    }\n",
              "  }\n",
              "</style>\n",
              "\n",
              "      <script>\n",
              "        async function quickchart(key) {\n",
              "          const quickchartButtonEl =\n",
              "            document.querySelector('#' + key + ' button');\n",
              "          quickchartButtonEl.disabled = true;  // To prevent multiple clicks.\n",
              "          quickchartButtonEl.classList.add('colab-df-spinner');\n",
              "          try {\n",
              "            const charts = await google.colab.kernel.invokeFunction(\n",
              "                'suggestCharts', [key], {});\n",
              "          } catch (error) {\n",
              "            console.error('Error during call to suggestCharts:', error);\n",
              "          }\n",
              "          quickchartButtonEl.classList.remove('colab-df-spinner');\n",
              "          quickchartButtonEl.classList.add('colab-df-quickchart-complete');\n",
              "        }\n",
              "        (() => {\n",
              "          let quickchartButtonEl =\n",
              "            document.querySelector('#df-2fa3f1d1-c77e-48c8-bb38-03febef2c7d3 button');\n",
              "          quickchartButtonEl.style.display =\n",
              "            google.colab.kernel.accessAllowed ? 'block' : 'none';\n",
              "        })();\n",
              "      </script>\n",
              "    </div>\n",
              "\n",
              "    </div>\n",
              "  </div>\n"
            ],
            "text/plain": [
              "                                  id  \\\n",
              "0  http://arxiv.org/abs/2505.04623v1   \n",
              "1  http://arxiv.org/abs/2505.04621v1   \n",
              "2  http://arxiv.org/abs/2505.04608v1   \n",
              "3  http://arxiv.org/abs/2505.04592v1   \n",
              "4  http://arxiv.org/abs/2505.04578v1   \n",
              "\n",
              "                                               title  \\\n",
              "0  EchoInk-R1: Exploring Audio-Visual Reasoning i...   \n",
              "1  Score Distillation Sampling for Audio: Source ...   \n",
              "2  WATCH: Weighted Adaptive Testing for Changepoi...   \n",
              "3  AI Governance to Avoid Extinction: The Strateg...   \n",
              "4  Fight Fire with Fire: Defending Against Malici...   \n",
              "\n",
              "                                             authors  \\\n",
              "0  Zhenghao Xing, Xiaowei Hu, Chi-Wing Fu, Wenhai...   \n",
              "1  Jessie Richter-Powell, Antonio Torralba, Jonat...   \n",
              "2     Drew Prinster, Xing Han, Anqi Liu, Suchi Saria   \n",
              "3                         Peter Barnett, Aaron Scher   \n",
              "4                                         Wenjun Cao   \n",
              "\n",
              "                                             summary   published     updated  \\\n",
              "0  Multimodal large language models (MLLMs) have ...  2025-05-07  2025-05-07   \n",
              "1  We introduce Audio-SDS, a generalization of Sc...  2025-05-07  2025-05-07   \n",
              "2  Responsibly deploying artificial intelligence ...  2025-05-07  2025-05-07   \n",
              "3  Humanity appears to be on course to soon devel...  2025-05-07  2025-05-07   \n",
              "4  Reinforcement learning (RL) fine-tuning transf...  2025-05-07  2025-05-07   \n",
              "\n",
              "  primary_category                                         categories  \\\n",
              "0          eess.AS                eess.AS, cs.AI, cs.CV, cs.MM, cs.SD   \n",
              "1            cs.SD  cs.SD, cs.AI, cs.LG, cs.MM, eess.AS, 68T07, I....   \n",
              "2            cs.LG                              cs.LG, cs.AI, stat.ML   \n",
              "3            cs.CY                                       cs.CY, cs.AI   \n",
              "4            cs.LG                                       cs.LG, cs.AI   \n",
              "\n",
              "                             pdf_url  \n",
              "0  http://arxiv.org/pdf/2505.04623v1  \n",
              "1  http://arxiv.org/pdf/2505.04621v1  \n",
              "2  http://arxiv.org/pdf/2505.04608v1  \n",
              "3  http://arxiv.org/pdf/2505.04592v1  \n",
              "4  http://arxiv.org/pdf/2505.04578v1  "
            ]
          },
          "execution_count": 46,
          "metadata": {},
          "output_type": "execute_result"
        }
      ],
      "source": [
        "df = pd.read_csv('/content/arxiv_cs_eess.csv')\n",
        "\n",
        "df.head()"
      ]
    },
    {
      "cell_type": "markdown",
      "metadata": {
        "id": "d4f5L7_HNujy"
      },
      "source": [
        "## Validasi Dataset"
      ]
    },
    {
      "cell_type": "code",
      "execution_count": null,
      "metadata": {
        "colab": {
          "base_uri": "https://localhost:8080/"
        },
        "id": "PmTF6qaOivJI",
        "outputId": "87effbd4-918a-42e4-d4f9-27ec546687f8"
      },
      "outputs": [],
      "source": [
        "# Load dataset\n",
        "df = pd.read_csv(\"arxiv_cs_subcategories (4).csv\")\n",
        "\n",
        "# Fungsi deteksi bahasa\n",
        "def is_english(text):\n",
        "    try:\n",
        "        return detect(str(text)) == 'en'\n",
        "    except LangDetectException:\n",
        "        return False\n",
        "\n",
        "# Tambahkan kolom deteksi bahasa\n",
        "df['is_english'] = df['summary'].apply(is_english)\n",
        "\n",
        "# Filter artikel berbahasa Inggris\n",
        "df_english = df[df['is_english']]\n",
        "\n",
        "# Filter artikel yang dieliminasi (tidak berbahasa Inggris)\n",
        "df_non_english = df[~df['is_english']]\n",
        "\n",
        "# Simpan keduanya\n",
        "df_english.to_csv(\"validated_dataset.csv\", index=False)\n",
        "df_non_english.to_csv(\"eliminated dataset.csv\", index=False)\n",
        "\n",
        "# Statistik\n",
        "print(f\"Total artikel      : {len(df)}\")\n",
        "print(f\"Berbahasa Inggris : {len(df_english)}\")\n",
        "print(f\"Dieliminasi        : {len(df_non_english)}\")\n"
      ]
    },
    {
      "cell_type": "code",
      "execution_count": 5,
      "metadata": {
        "colab": {
          "base_uri": "https://localhost:8080/"
        },
        "id": "oUANauTEMY7q",
        "outputId": "f3e8c4ec-e681-4311-8518-8a93ca6de5ae"
      },
      "outputs": [
        {
          "name": "stdout",
          "output_type": "stream",
          "text": [
            "(16799, 10)\n"
          ]
        }
      ],
      "source": [
        "df = pd.read_csv(\"validated_dataset.csv\")\n",
        "print(df.shape)"
      ]
    },
    {
      "cell_type": "code",
      "execution_count": 6,
      "metadata": {
        "colab": {
          "base_uri": "https://localhost:8080/"
        },
        "id": "VgPm3zvLQbFy",
        "outputId": "57b587d9-a802-4423-e432-1b9afc5c315f"
      },
      "outputs": [
        {
          "data": {
            "text/plain": [
              "Index(['id', 'title', 'authors', 'summary', 'published', 'updated',\n",
              "       'primary_category', 'categories', 'pdf_url', 'is_english'],\n",
              "      dtype='object')"
            ]
          },
          "execution_count": 6,
          "metadata": {},
          "output_type": "execute_result"
        }
      ],
      "source": [
        "df.columns"
      ]
    },
    {
      "cell_type": "code",
      "execution_count": 7,
      "metadata": {
        "colab": {
          "base_uri": "https://localhost:8080/"
        },
        "id": "QMC9wkZXQglU",
        "outputId": "8bc70b81-9a9e-4a1c-fce7-29a56e5bdaa2"
      },
      "outputs": [
        {
          "name": "stdout",
          "output_type": "stream",
          "text": [
            "<class 'pandas.core.frame.DataFrame'>\n",
            "RangeIndex: 16799 entries, 0 to 16798\n",
            "Data columns (total 10 columns):\n",
            " #   Column            Non-Null Count  Dtype \n",
            "---  ------            --------------  ----- \n",
            " 0   id                16799 non-null  object\n",
            " 1   title             16799 non-null  object\n",
            " 2   authors           16799 non-null  object\n",
            " 3   summary           16799 non-null  object\n",
            " 4   published         16799 non-null  object\n",
            " 5   updated           16799 non-null  object\n",
            " 6   primary_category  16799 non-null  object\n",
            " 7   categories        16799 non-null  object\n",
            " 8   pdf_url           16799 non-null  object\n",
            " 9   is_english        16799 non-null  bool  \n",
            "dtypes: bool(1), object(9)\n",
            "memory usage: 1.2+ MB\n"
          ]
        }
      ],
      "source": [
        "df.info()"
      ]
    },
    {
      "cell_type": "code",
      "execution_count": 8,
      "metadata": {
        "colab": {
          "base_uri": "https://localhost:8080/"
        },
        "id": "x7DSD800Qj28",
        "outputId": "7a0c449f-2bc9-434f-d355-b99264ba15f5"
      },
      "outputs": [
        {
          "name": "stdout",
          "output_type": "stream",
          "text": [
            "id                  0\n",
            "title               0\n",
            "authors             0\n",
            "summary             0\n",
            "published           0\n",
            "updated             0\n",
            "primary_category    0\n",
            "categories          0\n",
            "pdf_url             0\n",
            "is_english          0\n",
            "dtype: int64\n"
          ]
        }
      ],
      "source": [
        "print(df.isnull().sum())"
      ]
    },
    {
      "cell_type": "code",
      "execution_count": null,
      "metadata": {
        "colab": {
          "base_uri": "https://localhost:8080/",
          "height": 598
        },
        "id": "0_Jiw4GwQs24",
        "outputId": "67ee95db-8dd8-4e0f-e1a3-adac0dbaf2c8"
      },
      "outputs": [
        {
          "data": {
            "image/png": "[encoded data removed]",
            "text/plain": [
              "<Figure size 1000x600 with 1 Axes>"
            ]
          },
          "metadata": {},
          "output_type": "display_data"
        }
      ],
      "source": [
        "plt.figure(figsize=(10,6))\n",
        "top_cats = df['primary_category'].value_counts().nlargest(10)\n",
        "sns.barplot(x=top_cats.index, y=top_cats.values)\n",
        "plt.title(\"10 Subkategori Teratas\")\n",
        "plt.xticks(rotation=45)\n",
        "plt.ylabel(\"Jumlah Artikel\")\n",
        "plt.show()"
      ]
    },
    {
      "cell_type": "code",
      "execution_count": null,
      "metadata": {
        "colab": {
          "base_uri": "https://localhost:8080/",
          "height": 487
        },
        "id": "UUZOJA7JQzul",
        "outputId": "fa396a0e-205a-43e2-f668-ce0bf203f3cf"
      },
      "outputs": [
        {
          "data": {
            "image/png": "[encoded data removed]",
            "text/plain": [
              "<Figure size 800x500 with 1 Axes>"
            ]
          },
          "metadata": {},
          "output_type": "display_data"
        }
      ],
      "source": [
        "df['summary_length'] = df['summary'].apply(lambda x: len(str(x).split()))\n",
        "plt.figure(figsize=(8,5))\n",
        "sns.histplot(df['summary_length'], bins=30, kde=True)\n",
        "plt.title(\"Distribusi Panjang Summary\")\n",
        "plt.xlabel(\"Jumlah Kata\")\n",
        "plt.ylabel(\"Frekuensi\")\n",
        "plt.show()"
      ]
    },
    {
      "cell_type": "code",
      "execution_count": 9,
      "metadata": {
        "colab": {
          "base_uri": "https://localhost:8080/"
        },
        "id": "bvaNY-64Szzf",
        "outputId": "98078530-a23a-4c7d-9579-225817753dab"
      },
      "outputs": [
        {
          "data": {
            "text/plain": [
              "(16799, 10)"
            ]
          },
          "execution_count": 9,
          "metadata": {},
          "output_type": "execute_result"
        }
      ],
      "source": [
        "df.shape"
      ]
    },
    {
      "cell_type": "markdown",
      "metadata": {
        "id": "5llprrr9pVsV"
      },
      "source": [
        "## Koneksi ke MongoDB"
      ]
    },
    {
      "cell_type": "code",
      "execution_count": 3,
      "metadata": {
        "id": "_hepM3RdS52W"
      },
      "outputs": [],
      "source": [
        "def connect_to_mongodb(uri=\"mongodb://localhost:27017\", db_name=\"arxiv_db\", collection_name=\"papers\"):\n",
        "    client = MongoClient(uri)\n",
        "    db = client[db_name]\n",
        "    return db[collection_name]\n",
        "\n",
        "def load_csv_to_dict(csv_path):\n",
        "    df = pd.read_csv(csv_path)\n",
        "    return df.to_dict(orient=\"records\")\n",
        "\n",
        "def insert_data(collection, data):\n",
        "    if data:\n",
        "        collection.insert_many(data)\n",
        "        print(f\"{len(data)} dokumen berhasil dimasukkan ke MongoDB.\")\n",
        "    else:\n",
        "        print(\"Data kosong.\")"
      ]
    },
    {
      "cell_type": "code",
      "execution_count": 4,
      "metadata": {
        "colab": {
          "base_uri": "https://localhost:8080/"
        },
        "id": "7bB3BavWpGNS",
        "outputId": "04c783ff-116a-426b-81e3-531e2a409684"
      },
      "outputs": [
        {
          "name": "stdout",
          "output_type": "stream",
          "text": [
            "16799 dokumen berhasil dimasukkan ke MongoDB.\n"
          ]
        }
      ],
      "source": [
        "csv_path = \"validated_dataset.csv\"\n",
        "collection = connect_to_mongodb()\n",
        "data = load_csv_to_dict(csv_path)\n",
        "insert_data(collection, data)"
      ]
    },
    {
      "cell_type": "code",
      "execution_count": null,
      "metadata": {
        "id": "l4SO_jhnpa2u"
      },
      "outputs": [],
      "source": []
    }
  ],
  "metadata": {
    "colab": {
      "provenance": []
    },
    "kernelspec": {
      "display_name": ".venv",
      "language": "python",
      "name": "python3"
    },
    "language_info": {
      "codemirror_mode": {
        "name": "ipython",
        "version": 3
      },
      "file_extension": ".py",
      "mimetype": "text/x-python",
      "name": "python",
      "nbconvert_exporter": "python",
      "pygments_lexer": "ipython3",
      "version": "3.12.0"
    }
  },
  "nbformat": 4,
  "nbformat_minor": 0
}
